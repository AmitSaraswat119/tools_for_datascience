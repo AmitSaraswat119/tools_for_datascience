{
 "cells": [
  {
   "cell_type": "markdown",
   "id": "51a2f49b",
   "metadata": {},
   "source": [
    "My jupyter notebook "
   ]
  },
  {
   "cell_type": "markdown",
   "id": "7e304037",
   "metadata": {},
   "source": [
    "I am interested in data science because I love telling stories with data and using data to help bring that data to life.I love helping others. In data science that could be helping a business understand its customers or improving the way it uses its customer data"
   ]
  },
  {
   "cell_type": "markdown",
   "id": "1345ab6b",
   "metadata": {},
   "source": [
    "Data Science Languages:-\n",
    "1. Python\n",
    "2. R\n",
    "3. SQL\n",
    "4. JAVA\n",
    "5. Scala"
   ]
  },
  {
   "cell_type": "markdown",
   "id": "31d13cc4",
   "metadata": {},
   "source": [
    "Data Science Libraries:-\n",
    "1. Scikit-learn\n",
    "2. Tensorflow\n",
    "3. numpy\n",
    "4. pandas\n",
    "5. pytorch"
   ]
  },
  {
   "cell_type": "markdown",
   "id": "307b019c",
   "metadata": {},
   "source": [
    "|S.no|Data Science Tools|\n",
    "|----|------------------|\n",
    "|1|SAS|\n",
    "|2|MATLAB|\n",
    "|3|Tableau|\n",
    "|4|Excel|"
   ]
  },
  {
   "cell_type": "markdown",
   "id": "6ba2f053",
   "metadata": {},
   "source": [
    "Airthmetic expression examples:-\n",
    "1. 1+1 = 2\n",
    "2. a+b = c\n",
    "3. 8/2 = 4"
   ]
  },
  {
   "cell_type": "code",
   "execution_count": 4,
   "id": "a5b597f6",
   "metadata": {},
   "outputs": [
    {
     "data": {
      "text/plain": [
       "14"
      ]
     },
     "execution_count": 4,
     "metadata": {},
     "output_type": "execute_result"
    }
   ],
   "source": [
    "4 + 10\n"
   ]
  },
  {
   "cell_type": "code",
   "execution_count": 5,
   "id": "70adb7fe",
   "metadata": {},
   "outputs": [
    {
     "data": {
      "text/plain": [
       "20"
      ]
     },
     "execution_count": 5,
     "metadata": {},
     "output_type": "execute_result"
    }
   ],
   "source": [
    "4*5"
   ]
  },
  {
   "cell_type": "code",
   "execution_count": 6,
   "id": "e974636a",
   "metadata": {},
   "outputs": [
    {
     "data": {
      "text/plain": [
       "1"
      ]
     },
     "execution_count": 6,
     "metadata": {},
     "output_type": "execute_result"
    }
   ],
   "source": [
    "#convert minutes into hour\n",
    "min = 60\n",
    "hour = int(int(min)/60)\n",
    "hour"
   ]
  },
  {
   "cell_type": "markdown",
   "id": "d8b7a5b8",
   "metadata": {},
   "source": [
    "Objectives:-\n",
    "\n",
    "Create a markdown cell with the title of the notebook. (1 pt)\n",
    "\n",
    "Create a markdown cell for an introduction. (1 pt)\n",
    "\n",
    "Create a markdown cell to list data science languages. (3 pts)\n",
    "\n",
    "Create a markdown cell to list data science libraries. (3 pts)\n",
    "\n",
    "Create a markdown cell with a table of Data Science tools. (3 pts)\n",
    "\n",
    "Create a markdown cell introducing arithmetic expression examples. (1 pt)\n",
    "\n",
    "Create a code cell to multiply and add numbers.(2 pts)\n",
    "\n",
    "Create a code cell to convert minutes to hours. (2 pts)"
   ]
  },
  {
   "cell_type": "markdown",
   "id": "aeb72430",
   "metadata": {},
   "source": [
    "Author name - Amit Saraswat"
   ]
  },
  {
   "cell_type": "code",
   "execution_count": null,
   "id": "de62d2b3",
   "metadata": {},
   "outputs": [],
   "source": []
  }
 ],
 "metadata": {
  "kernelspec": {
   "display_name": "Python 3 (ipykernel)",
   "language": "python",
   "name": "python3"
  },
  "language_info": {
   "codemirror_mode": {
    "name": "ipython",
    "version": 3
   },
   "file_extension": ".py",
   "mimetype": "text/x-python",
   "name": "python",
   "nbconvert_exporter": "python",
   "pygments_lexer": "ipython3",
   "version": "3.11.2"
  }
 },
 "nbformat": 4,
 "nbformat_minor": 5
}
